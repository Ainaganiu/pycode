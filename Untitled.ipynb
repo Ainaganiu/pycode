{
 "cells": [
  {
   "cell_type": "code",
   "execution_count": 1,
   "id": "4b63e872-5612-435c-87e1-00aed9eae443",
   "metadata": {},
   "outputs": [
    {
     "name": "stdout",
     "output_type": "stream",
     "text": [
      "Hello world\n"
     ]
    }
   ],
   "source": [
    "print(\"Hello world\")"
   ]
  },
  {
   "cell_type": "code",
   "execution_count": 4,
   "id": "6b7fa772-59a1-4054-86e8-9e5d84e7544d",
   "metadata": {},
   "outputs": [],
   "source": [
    "fi = {\"a\", \"B\", \"C\"}"
   ]
  },
  {
   "cell_type": "code",
   "execution_count": 5,
   "id": "ade0b95f-6eca-41cb-ab33-6895da06ea5d",
   "metadata": {},
   "outputs": [
    {
     "name": "stdout",
     "output_type": "stream",
     "text": [
      "{'a', 'C', 'B'}\n"
     ]
    }
   ],
   "source": [
    "print(fi)"
   ]
  },
  {
   "cell_type": "code",
   "execution_count": 6,
   "id": "6382cd54-e019-45e2-ab7b-105851346e1b",
   "metadata": {},
   "outputs": [],
   "source": [
    "fe = {\"t\",\"b\",\"H\"}"
   ]
  },
  {
   "cell_type": "code",
   "execution_count": 8,
   "id": "b3597fea-5876-4b41-9d94-9f8165dab2a1",
   "metadata": {},
   "outputs": [
    {
     "data": {
      "text/plain": [
       "{'H', 'b', 't'}"
      ]
     },
     "execution_count": 8,
     "metadata": {},
     "output_type": "execute_result"
    }
   ],
   "source": [
    "fe"
   ]
  },
  {
   "cell_type": "code",
   "execution_count": 13,
   "id": "4f406541-d14d-44e0-b4a3-d917376600c0",
   "metadata": {},
   "outputs": [
    {
     "data": {
      "text/plain": [
       "{'B', 'C', 'H', 'a', 'b', 't'}"
      ]
     },
     "execution_count": 13,
     "metadata": {},
     "output_type": "execute_result"
    }
   ],
   "source": [
    "g = fi.union(fe)\n",
    "g"
   ]
  },
  {
   "cell_type": "code",
   "execution_count": 14,
   "id": "27982692-c327-4c50-a6b2-dcc77bcd4d8f",
   "metadata": {},
   "outputs": [
    {
     "data": {
      "text/plain": [
       "True"
      ]
     },
     "execution_count": 14,
     "metadata": {},
     "output_type": "execute_result"
    }
   ],
   "source": [
    "\"a\" in g"
   ]
  },
  {
   "cell_type": "code",
   "execution_count": null,
   "id": "d54f51a2-af5f-4c29-afac-a065d66725b8",
   "metadata": {},
   "outputs": [],
   "source": []
  },
  {
   "cell_type": "code",
   "execution_count": 15,
   "id": "514b46d0-07f9-45f5-bf32-910a7eaf2e6e",
   "metadata": {},
   "outputs": [],
   "source": [
    "g.add(1)"
   ]
  },
  {
   "cell_type": "code",
   "execution_count": 16,
   "id": "ac84be81-0562-45bd-a290-72d9d7f36013",
   "metadata": {},
   "outputs": [
    {
     "data": {
      "text/plain": [
       "{1, 'B', 'C', 'H', 'a', 'b', 't'}"
      ]
     },
     "execution_count": 16,
     "metadata": {},
     "output_type": "execute_result"
    }
   ],
   "source": [
    "g"
   ]
  },
  {
   "cell_type": "code",
   "execution_count": null,
   "id": "f623bc84-a983-4a24-9aee-bf91dc5bfc52",
   "metadata": {},
   "outputs": [],
   "source": []
  }
 ],
 "metadata": {
  "kernelspec": {
   "display_name": "Python",
   "language": "python",
   "name": "conda-env-python-py"
  },
  "language_info": {
   "codemirror_mode": {
    "name": "ipython",
    "version": 3
   },
   "file_extension": ".py",
   "mimetype": "text/x-python",
   "name": "python",
   "nbconvert_exporter": "python",
   "pygments_lexer": "ipython3",
   "version": "3.6.13"
  },
  "toc-showtags": true
 },
 "nbformat": 4,
 "nbformat_minor": 5
}
